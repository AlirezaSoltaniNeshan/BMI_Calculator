{
  "nbformat": 4,
  "nbformat_minor": 0,
  "metadata": {
    "colab": {
      "name": "Learning_Python.ipynb",
      "provenance": [],
      "private_outputs": true,
      "collapsed_sections": [],
      "authorship_tag": "ABX9TyN2UE/lcFX7mm+5qRYhP+X2",
      "include_colab_link": true
    },
    "kernelspec": {
      "name": "python3",
      "display_name": "Python 3"
    },
    "accelerator": "GPU"
  },
  "cells": [
    {
      "cell_type": "markdown",
      "metadata": {
        "id": "view-in-github",
        "colab_type": "text"
      },
      "source": [
        "<a href=\"https://colab.research.google.com/github/AlirezaSoltaniNeshan/BMI_Calculator/blob/master/Learning_Python.ipynb\" target=\"_parent\"><img src=\"https://colab.research.google.com/assets/colab-badge.svg\" alt=\"Open In Colab\"/></a>"
      ]
    },
    {
      "cell_type": "code",
      "metadata": {
        "id": "cjuC90zAer0i",
        "colab_type": "code",
        "colab": {}
      },
      "source": [
        "number = [1, 2, 3]\n",
        "string = ['Hello', 'World']\n",
        "names = ['Alireza', 'Sara', 'Enver']\n",
        "\n",
        "secondName = names[1]\n",
        "\n",
        "print(number)\n",
        "print(string)\n",
        "print(names)\n",
        "\n",
        "print(secondName)\n",
        "\n"
      ],
      "execution_count": null,
      "outputs": []
    },
    {
      "cell_type": "markdown",
      "metadata": {
        "id": "WycSiD10rRIP",
        "colab_type": "text"
      },
      "source": [
        "funny work: if you use string var + * number your val of var reapeat *"
      ]
    },
    {
      "cell_type": "code",
      "metadata": {
        "id": "-kp5Ketjps7X",
        "colab_type": "code",
        "colab": {}
      },
      "source": [
        "aLotOfName = 'alireza '* 100\n",
        "print(aLotOfName)"
      ],
      "execution_count": null,
      "outputs": []
    },
    {
      "cell_type": "code",
      "metadata": {
        "id": "t_lc14aRyqvK",
        "colab_type": "code",
        "colab": {}
      },
      "source": [
        ""
      ],
      "execution_count": null,
      "outputs": []
    },
    {
      "cell_type": "markdown",
      "metadata": {
        "id": "fEGY9pL42ZdT",
        "colab_type": "text"
      },
      "source": [
        "**Attention about PlaceHolder in Python**\n",
        "---\n",
        "\n",
        "\n",
        "### There is a note from this code about %s and %d. %s and %d is a PlaceHolder in Python. if you have String value you should use %s else you have integer or decimal object(variable) you can use %d.\n",
        "### %f - Floating point numbers\n",
        "\n",
        "### %.<number of digits>f - Floating point numbers with a fixed amount of digits to the right of the dot.\n",
        "\n",
        "### %x/%X - Integers in hex representation (lowercase/uppercase)\n",
        "\n",
        "**You can use {0}, {1} for choice your placeholder and you must use .format(args) for your variables**"
      ]
    },
    {
      "cell_type": "markdown",
      "metadata": {
        "id": "CmAyukWK3vxa",
        "colab_type": "text"
      },
      "source": [
        "# **Exp 1**"
      ]
    },
    {
      "cell_type": "code",
      "metadata": {
        "id": "aSRwDkbfvv2z",
        "colab_type": "code",
        "colab": {}
      },
      "source": [
        "name = \"Alireza\"\n",
        "family = \"Soltani\"\n",
        "age = \"19\"\n",
        "print('Welcome %s %s with %s to Python'% (name, family, age))"
      ],
      "execution_count": null,
      "outputs": []
    },
    {
      "cell_type": "markdown",
      "metadata": {
        "id": "gE1nQfJq30lp",
        "colab_type": "text"
      },
      "source": [
        "# **Exp 2**"
      ]
    },
    {
      "cell_type": "code",
      "metadata": {
        "id": "pR_kpSOY3AYq",
        "colab_type": "code",
        "colab": {}
      },
      "source": [
        "data = (\"Alireza\", \"Soltani\", 19)\n",
        "msg = \"Hello %s %s, you have $%s\"\n",
        "print(msg % data) "
      ],
      "execution_count": null,
      "outputs": []
    },
    {
      "cell_type": "markdown",
      "metadata": {
        "id": "yqWrNZmM6AdU",
        "colab_type": "text"
      },
      "source": [
        "# **Basic String Operations**\n",
        "\n",
        "You can use len function to have length of String or object"
      ]
    },
    {
      "cell_type": "code",
      "metadata": {
        "id": "U6w72LQf3xH-",
        "colab_type": "code",
        "colab": {}
      },
      "source": [
        "fullName = \"Alireza Soltani Neshan\"\n",
        "print(len(fullName))"
      ],
      "execution_count": null,
      "outputs": []
    },
    {
      "cell_type": "markdown",
      "metadata": {
        "id": "CHl8-DHI6ffr",
        "colab_type": "text"
      },
      "source": [
        "You can use count to have qty"
      ]
    },
    {
      "cell_type": "code",
      "metadata": {
        "id": "_a8niy4y6klp",
        "colab_type": "code",
        "colab": {}
      },
      "source": [
        "fullName = \"Alireza Soltani Neshan\"\n",
        "print(fullName.count(\"o\"))"
      ],
      "execution_count": null,
      "outputs": []
    },
    {
      "cell_type": "markdown",
      "metadata": {
        "id": "O2OVBy2H7IZ3",
        "colab_type": "text"
      },
      "source": [
        "To have `bunch` of character\n",
        "\n",
        "[Start Point : End Point : Step]"
      ]
    },
    {
      "cell_type": "code",
      "metadata": {
        "id": "621jfkf57B_j",
        "colab_type": "code",
        "colab": {}
      },
      "source": [
        "fullName = \"Alireza Soltani Neshan\"\n",
        "print(fullName[0:7])\n",
        "print(fullName[7:18])"
      ],
      "execution_count": null,
      "outputs": []
    },
    {
      "cell_type": "markdown",
      "metadata": {
        "id": "SjR7ywzC8lD6",
        "colab_type": "text"
      },
      "source": [
        "To hav upside down text \n"
      ]
    },
    {
      "cell_type": "code",
      "metadata": {
        "id": "-KgIy58B8IQ6",
        "colab_type": "code",
        "colab": {}
      },
      "source": [
        "astring = \"Hello world!\"\n",
        "print(astring[::-1])"
      ],
      "execution_count": null,
      "outputs": []
    },
    {
      "cell_type": "markdown",
      "metadata": {
        "id": "078fZOirytBg",
        "colab_type": "text"
      },
      "source": [
        "**Use upper() or lower() function**"
      ]
    },
    {
      "cell_type": "code",
      "metadata": {
        "id": "zWDDw9xex-mx",
        "colab_type": "code",
        "colab": {}
      },
      "source": [
        "fullName = \"Alireza\"\n",
        "print(fullName.upper())\n",
        "print(fullName.lower())\n",
        "lenFull = len(fullName)\n",
        "print(\"The length of Fullname is %s\" % lenFull)"
      ],
      "execution_count": null,
      "outputs": []
    },
    {
      "cell_type": "markdown",
      "metadata": {
        "id": "JwO495fHy84Q",
        "colab_type": "text"
      },
      "source": [
        "**Use startswith() or endswith()**"
      ]
    },
    {
      "cell_type": "code",
      "metadata": {
        "id": "Qkd27LHhzCKY",
        "colab_type": "code",
        "colab": {}
      },
      "source": [
        "name = \"alireza codes\"\n",
        "print(name.startswith(\"a\"))\n",
        "print(name.endswith(\"s\"))\n",
        "\n"
      ],
      "execution_count": null,
      "outputs": []
    },
    {
      "cell_type": "markdown",
      "metadata": {
        "id": "fwF-lWI10Jzv",
        "colab_type": "text"
      },
      "source": [
        "**You can split a stirng array.** \n",
        "lock following codes and results"
      ]
    },
    {
      "cell_type": "code",
      "metadata": {
        "id": "UVqCmu7S0V-n",
        "colab_type": "code",
        "colab": {}
      },
      "source": [
        "name = \"Alireza.codes\"\n",
        "preName = name.split(\".\")\n",
        "print(preName);"
      ],
      "execution_count": null,
      "outputs": []
    },
    {
      "cell_type": "markdown",
      "metadata": {
        "id": "xnSJ4gbm0szP",
        "colab_type": "text"
      },
      "source": [
        "Use from split function to split your string value\n",
        "\n",
        "for example when your string is www.Google.com, you can split this string value with per dot(.) or when you have \"Alireza Soltani Neshan\" you can split your string value with space(\" \").\n",
        "\n",
        "**Execise 1**\n",
        "do this: \n",
        "split www.learnpythone.org,\n",
        "\n",
        "split React Native App, "
      ]
    },
    {
      "cell_type": "code",
      "metadata": {
        "id": "-yj_6W_D1V7f",
        "colab_type": "code",
        "colab": {}
      },
      "source": [
        "siteAdd = \"www.learnpython.org\"\n",
        "frameworkName = \"React Native App\"\n",
        "IP_add = \"172.185.2.100\"\n",
        "print(siteAdd.split(\".\"))\n",
        "print(frameworkName.split(\" \"))\n",
        "print(IP_add.split(\".\"))"
      ],
      "execution_count": null,
      "outputs": []
    },
    {
      "cell_type": "markdown",
      "metadata": {
        "id": "cXmwhTZt2rmp",
        "colab_type": "text"
      },
      "source": [
        "# **Big Exercise**\n",
        "\n",
        "Try to fix the code to print out the correct information by changing the string"
      ]
    },
    {
      "cell_type": "code",
      "metadata": {
        "id": "xSpkgTSr22sQ",
        "colab_type": "code",
        "colab": {}
      },
      "source": [
        "msg = \"Hey there! what should this string be?\"\n",
        "# Length should be 20\n",
        "msgLen = len(msg)\n",
        "print(\"Length of your message is %d\" % msgLen)\n",
        "\n",
        "# First occurrence of \"a\" should be at index 8\n",
        "print(\"First occurrence of a should be a index %d \" % msg.index(\"a\"))\n",
        "\n",
        "# Number of a's should be 2\n",
        "print(\"Count of a character in this message string is %d \" % msg.count(\"a\"))\n",
        "\n",
        "print(msg[:10])\n",
        "\n"
      ],
      "execution_count": null,
      "outputs": []
    },
    {
      "cell_type": "markdown",
      "metadata": {
        "id": "-zpTCLS7trOE",
        "colab_type": "text"
      },
      "source": [
        "# **Conditions**\n",
        "\n",
        "---\n",
        "Python uses boolean variables to evaluate conditions. The boolean values True and False are returned when an expression is compared or evaluated. For example:\n"
      ]
    },
    {
      "cell_type": "code",
      "metadata": {
        "id": "NpnQRyYRt787",
        "colab_type": "code",
        "colab": {}
      },
      "source": [
        "x = 2\n",
        "print(x == 2)\n",
        "print(x == 3)\n",
        "print(x < 3)\n"
      ],
      "execution_count": null,
      "outputs": []
    },
    {
      "cell_type": "code",
      "metadata": {
        "id": "pE7oAHbPuXZL",
        "colab_type": "code",
        "colab": {}
      },
      "source": [
        "name = \"Bahar\"\n",
        "age = 19\n",
        "\n",
        "if name == \"Alireza\" and age == 19:\n",
        "    # print(\"your name is %s, and you are %d \" %name, age)\n",
        "    print(\"Your name is {0}, and you are {1} \".format(name, age))\n",
        "\n",
        "if name == \"Bahar\" or name == \"Alireza\":\n",
        "    print(\"Your name is {0}\".format(name))\n"
      ],
      "execution_count": null,
      "outputs": []
    }
  ]
}